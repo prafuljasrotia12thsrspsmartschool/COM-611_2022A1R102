{
 "cells": [
  {
   "cell_type": "markdown",
   "id": "88a799a1-6578-43aa-ade5-5700bc7489ab",
   "metadata": {},
   "source": [
    "# Implement the data  Processing , data visualization and data wrangling on any real  world problem i.e. Covid_19 dataset to view the active cases on the world map using choropleth and also plot the cases"
   ]
  },
  {
   "cell_type": "markdown",
   "id": "2f4cc10d-72da-4f18-acf7-58fdcfc0512e",
   "metadata": {},
   "source": [
    "##### geospatial data visulization and analysis using folium library\n",
    "##### COVID_19 data is accessed through an api\n",
    "##### coordinates for indian states are traced using GeoJSON"
   ]
  },
  {
   "cell_type": "code",
   "execution_count": 9,
   "id": "e13e7000-ed85-4ed7-8d97-ebbdd0fa173c",
   "metadata": {},
   "outputs": [
    {
     "name": "stdout",
     "output_type": "stream",
     "text": [
      "Requirement already satisfied: folium in c:\\users\\prafu\\appdata\\local\\programs\\python\\python312\\lib\\site-packages (0.19.5)\n",
      "Requirement already satisfied: branca>=0.6.0 in c:\\users\\prafu\\appdata\\local\\programs\\python\\python312\\lib\\site-packages (from folium) (0.8.1)\n",
      "Requirement already satisfied: jinja2>=2.9 in c:\\users\\prafu\\appdata\\local\\programs\\python\\python312\\lib\\site-packages (from folium) (3.1.4)\n",
      "Requirement already satisfied: numpy in c:\\users\\prafu\\appdata\\local\\programs\\python\\python312\\lib\\site-packages (from folium) (2.1.0)\n",
      "Requirement already satisfied: requests in c:\\users\\prafu\\appdata\\local\\programs\\python\\python312\\lib\\site-packages (from folium) (2.32.3)\n",
      "Requirement already satisfied: xyzservices in c:\\users\\prafu\\appdata\\local\\programs\\python\\python312\\lib\\site-packages (from folium) (2025.1.0)\n",
      "Requirement already satisfied: MarkupSafe>=2.0 in c:\\users\\prafu\\appdata\\local\\programs\\python\\python312\\lib\\site-packages (from jinja2>=2.9->folium) (2.1.5)\n",
      "Requirement already satisfied: charset-normalizer<4,>=2 in c:\\users\\prafu\\appdata\\local\\programs\\python\\python312\\lib\\site-packages (from requests->folium) (3.3.2)\n",
      "Requirement already satisfied: idna<4,>=2.5 in c:\\users\\prafu\\appdata\\local\\programs\\python\\python312\\lib\\site-packages (from requests->folium) (3.7)\n",
      "Requirement already satisfied: urllib3<3,>=1.21.1 in c:\\users\\prafu\\appdata\\local\\programs\\python\\python312\\lib\\site-packages (from requests->folium) (2.2.2)\n",
      "Requirement already satisfied: certifi>=2017.4.17 in c:\\users\\prafu\\appdata\\local\\programs\\python\\python312\\lib\\site-packages (from requests->folium) (2024.7.4)\n",
      "Note: you may need to restart the kernel to use updated packages.\n"
     ]
    },
    {
     "name": "stderr",
     "output_type": "stream",
     "text": [
      "\n",
      "[notice] A new release of pip is available: 24.2 -> 25.0.1\n",
      "[notice] To update, run: python.exe -m pip install --upgrade pip\n"
     ]
    }
   ],
   "source": [
    "pip install folium"
   ]
  },
  {
   "cell_type": "code",
   "execution_count": 10,
   "id": "a3c5da00-2e73-4d3c-9ad4-633fa5718deb",
   "metadata": {},
   "outputs": [],
   "source": [
    "import folium as file\n",
    "from folium import plugins\n",
    "import pandas as pd\n",
    "import json\n",
    "import requests"
   ]
  },
  {
   "cell_type": "code",
   "execution_count": 11,
   "id": "4e143f09-c158-4e88-83ca-ce2c99ed2794",
   "metadata": {},
   "outputs": [],
   "source": [
    "with open(r'Indian_States.json') as f:\n",
    "    geojson_states = json.load(f)\n",
    "    "
   ]
  },
  {
   "cell_type": "code",
   "execution_count": 12,
   "id": "cd46659e-e5b5-4842-9dc9-0f8a29e5d8cf",
   "metadata": {},
   "outputs": [],
   "source": [
    "for i in geojson_states['features']:\n",
    "    i['id'] = i['properties']['NAME_1']"
   ]
  },
  {
   "cell_type": "code",
   "execution_count": 15,
   "id": "47be31b0-a9c7-4833-9d22-e9bef948f69d",
   "metadata": {},
   "outputs": [],
   "source": [
    "with open(\"data.json\",\"r\") as file:\n",
    "    covid_current = json.load(file)"
   ]
  },
  {
   "cell_type": "code",
   "execution_count": 18,
   "id": "4c76f1fb-7d9b-470d-a48c-7d31cf4c232a",
   "metadata": {},
   "outputs": [],
   "source": [
    "import pandas as pd\n",
    "data_list = []\n",
    "for state_data in covid_current[\"statewise\"][1:]:\n",
    "    if state_data[\"state\"]!= \"State Unassigned\":\n",
    "        data_list.append({\n",
    "            \"State\": state_data[\"state\"],\n",
    "            \"Total Cases\": int(state_data[\"confirmed\"]),\n",
    "            \"Active Cases\": int(state_data[\"active\"]),\n",
    "            \"Death\": int(state_data[\"deaths\"])\n",
    "        })\n",
    "        df_covid=pd.DataFrame(data_list)"
   ]
  },
  {
   "cell_type": "code",
   "execution_count": 19,
   "id": "cf398770-0b35-4101-8c4b-374dfcddd222",
   "metadata": {},
   "outputs": [],
   "source": [
    "df_covid.rename(columns={\n",
    "    \"Total Cases\": \"total_case\",\n",
    "    \"Active Cases\": \"active_cases\",\n",
    "    \"Deaths\": \"total_deaths\"\n",
    "},inplace=True)"
   ]
  },
  {
   "cell_type": "code",
   "execution_count": 27,
   "id": "07a2640d-7359-4885-907b-8c3c725e8d86",
   "metadata": {},
   "outputs": [
    {
     "name": "stdout",
     "output_type": "stream",
     "text": [
      "State present in GeoJSON but missing in DataFrame: {'Dadra and Nagar Haveli'}\n"
     ]
    }
   ],
   "source": [
    "geojson_states_names = [feature[\"properties\"][\"NAME_1\"]  for feature in geojson_states[\"features\"]]\n",
    "df_covid_state = df_covid[\"State\"].unique()\n",
    "geojson_state_names = [feature[\"properties\"][\"NAME_1\"] for feature in geojson_states[\"features\"]]\n",
    "df_covid_states = df_covid[\"State\"].unique()\n",
    "missing_states = set(geojson_states_names) - set(df_covid_states)\n",
    "print(\"State present in GeoJSON but missing in DataFrame:\", missing_states)\n",
    "state_name_corrections ={\n",
    "    \"Dadar and  Nagar Haveli and Daman and Diu\": \"Dadar and Nagar Haveli\",\n",
    "    \"NCT of Delhi\": \"Delhi\"\n",
    "}\n",
    "df_covid[\"State\"] = df_covid[\"State\"].replace(state_name_corrections)\n",
    "state_name_corrections ={\n",
    "    \"Dadar and Nagar Haveli and Daman and Diu\":\"Dadar and Nagar Haveli\",\n",
    "    \"NCT if Delhi\":\"Delhi\"\n",
    "}\n",
    "df_covid[\"State\"] = df_covid[\"State\"].replace(state_name_corrections)"
   ]
  },
  {
   "cell_type": "code",
   "execution_count": null,
   "id": "85b9d11f-0093-44db-b5a8-bdc2deb75072",
   "metadata": {},
   "outputs": [],
   "source": [
    "state_data_map = df_covid.set_index(\"State\").to_dict(orient=\"index\")\n",
    "for feature in geojson_states[\"features\"]:\n",
    "    states_name = feature[\"properties\"][\"NAME_1\"]\n",
    "    if state_name in state_data_map:\n",
    "        feature[\"properties\"][\"total_case\"] = state_data_map[state_name][\"total_case\"]\n",
    "        feature[\"properties\"][\"active_case\"] = state_data_map[state_name][\"active_case\"]\n",
    "        feature[\"properties\"][\"total_deaths\"] = state_data_map[state_name][\"total_deaths\"]\n",
    "    else:\n",
    "        feature[\"properties\"][\"total_case\"] = \"No Data"
   ]
  }
 ],
 "metadata": {
  "kernelspec": {
   "display_name": "Python 3 (ipykernel)",
   "language": "python",
   "name": "python3"
  },
  "language_info": {
   "codemirror_mode": {
    "name": "ipython",
    "version": 3
   },
   "file_extension": ".py",
   "mimetype": "text/x-python",
   "name": "python",
   "nbconvert_exporter": "python",
   "pygments_lexer": "ipython3",
   "version": "3.12.5"
  }
 },
 "nbformat": 4,
 "nbformat_minor": 5
}
